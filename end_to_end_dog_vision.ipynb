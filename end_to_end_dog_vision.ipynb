{
  "nbformat": 4,
  "nbformat_minor": 0,
  "metadata": {
    "colab": {
      "name": "end-to-end-dog-vision.ipynb",
      "provenance": [],
      "collapsed_sections": [],
      "mount_file_id": "1bTOTqjJACSh_poxEeaymzsKQb76flGi1",
      "authorship_tag": "ABX9TyP0sdb5z1e89wqiWO0OzzHY",
      "include_colab_link": true
    },
    "kernelspec": {
      "name": "python3",
      "display_name": "Python 3"
    },
    "accelerator": "GPU"
  },
  "cells": [
    {
      "cell_type": "markdown",
      "metadata": {
        "id": "view-in-github",
        "colab_type": "text"
      },
      "source": [
        "<a href=\"https://colab.research.google.com/github/prachi-khandelwal/Dog-Vision-MultiClassification-Project/blob/master/end_to_end_dog_vision.ipynb\" target=\"_parent\"><img src=\"https://colab.research.google.com/assets/colab-badge.svg\" alt=\"Open In Colab\"/></a>"
      ]
    },
    {
      "cell_type": "markdown",
      "metadata": {
        "id": "ToMI1HKTNZCQ",
        "colab_type": "text"
      },
      "source": [
        ""
      ]
    },
    {
      "cell_type": "markdown",
      "metadata": {
        "id": "Zd84bWcuNlD-",
        "colab_type": "text"
      },
      "source": [
        "# 🐶End-To-End MultiClass Dog Breed Identification\n",
        "\n",
        "this Notebook builds an end-to-end multi-class image classifier using TensolrFlow 2.0 and Tensorflow Hub.\n",
        "\n",
        "## 1. Problem\n",
        "\n",
        "Identifying the breed of the dog given in the image of a dog.\n",
        "\n",
        "When I am roaming around in my locality a dog passed and I wanted to Know the breed of the dog.😊😁\n",
        "\n",
        "## 2. Data\n",
        "\n",
        "The Data we're using is from Kaggle's Dog Breed identification competition.\n",
        "\n",
        "https://www.kaggle.com/c/dog-breed-identification/data\n",
        "\n",
        "## 3. Evaluation\n",
        "\n",
        "The evaluation is the file with Prediction Probabilitiesfor each dog breed in the image.\n",
        "\n",
        "https://www.kaggle.com/c/dog-breed-identification/overview/evaluation\n",
        "## 4. Features\n",
        "\n",
        "Some Information about the Data:\n",
        "* We're dealing with images (unstructured Data) so its probably best to use Deep learning /Transfer Learning.\n",
        "* There are 120 breeds of dogs (this means there are 120 different classes).\n",
        "* There are around 10K images in Trainng set (These Images have Labels).\n",
        "* There are around 10k images in Test set (These Images don't have labels).\n",
        "\n",
        "\n",
        "\n"
      ]
    },
    {
      "cell_type": "code",
      "metadata": {
        "id": "uMeuwQS1Tgw3",
        "colab_type": "code",
        "colab": {}
      },
      "source": [
        "# Unzip the data into Google Drive.\n",
        "# !unzip \"/content/drive/My Drive/Dog vision/dog-breed-identification.zip\" -d \"drive/My Drive/Dog vision\""
      ],
      "execution_count": 2,
      "outputs": []
    },
    {
      "cell_type": "markdown",
      "metadata": {
        "id": "R5zGmNf9TAn8",
        "colab_type": "text"
      },
      "source": [
        "# Get our Workspace Ready!\n",
        "* Import Tensorflow 2.x ✅\n",
        "* Import TensorFlow Hub✅\n",
        "* Make sure we're using a GPU \n"
      ]
    },
    {
      "cell_type": "markdown",
      "metadata": {
        "id": "utbI6ribVD0c",
        "colab_type": "text"
      },
      "source": [
        "Import necessary Tools"
      ]
    },
    {
      "cell_type": "code",
      "metadata": {
        "id": "bwwyr7N9TAO6",
        "colab_type": "code",
        "colab": {
          "base_uri": "https://localhost:8080/",
          "height": 50
        },
        "outputId": "e2fe9623-4792-4379-f896-3a65ce60f577"
      },
      "source": [
        "# Import TensorFlow into COlAB\n",
        "import tensorflow as tf\n",
        "print(\"Tensorflow version:\",tf.__version__)\n",
        "# Import Tensorflow HUB\n",
        "import tensorflow_hub as hub\n",
        "print(\"Tensorflow hub version:\",hub.__version__)"
      ],
      "execution_count": 3,
      "outputs": [
        {
          "output_type": "stream",
          "text": [
            "Tensorflow version: 2.2.0\n",
            "Tensorflow hub version: 0.8.0\n"
          ],
          "name": "stdout"
        }
      ]
    },
    {
      "cell_type": "code",
      "metadata": {
        "id": "hQ_mNnvnfzhv",
        "colab_type": "code",
        "colab": {
          "base_uri": "https://localhost:8080/",
          "height": 33
        },
        "outputId": "28fc38d0-cd33-438b-fde2-1bd2f43dd158"
      },
      "source": [
        "# Check If a GPU available\n",
        "print(\"GPU\", \"available YEP!\" if tf.config.list_physical_devices(\"GPU\") else \"not available :( \")"
      ],
      "execution_count": 4,
      "outputs": [
        {
          "output_type": "stream",
          "text": [
            "GPU available YEP!\n"
          ],
          "name": "stdout"
        }
      ]
    },
    {
      "cell_type": "markdown",
      "metadata": {
        "id": "fTmOSfURdPX6",
        "colab_type": "text"
      },
      "source": [
        "## Getting our Data ready! (turning into tensors)\n",
        "With all ML models our data must be in numerical format. So that's what we're going to do.\n",
        "Turning our images into tensors(Numerical Representation)\n",
        "\n",
        "Let's start by accessing our data and checking labels\n",
        "\n"
      ]
    },
    {
      "cell_type": "code",
      "metadata": {
        "id": "yHGobkr1ebAD",
        "colab_type": "code",
        "colab": {
          "base_uri": "https://localhost:8080/",
          "height": 281
        },
        "outputId": "54ebf3ba-9f13-48e3-b275-4bac7360b3af"
      },
      "source": [
        "# Checkout the data labels\n",
        "import pandas as pd\n",
        "import numpy as np\n",
        "labels_csv = pd.read_csv(\"drive/My Drive/Dog vision/labels.csv\")\n",
        "print(labels_csv.describe())\n",
        "labels_csv.head()"
      ],
      "execution_count": 5,
      "outputs": [
        {
          "output_type": "stream",
          "text": [
            "                                      id               breed\n",
            "count                              10222               10222\n",
            "unique                             10222                 120\n",
            "top     e2e46a91de179a79ab3b0ec7f813df27  scottish_deerhound\n",
            "freq                                   1                 126\n"
          ],
          "name": "stdout"
        },
        {
          "output_type": "execute_result",
          "data": {
            "text/html": [
              "<div>\n",
              "<style scoped>\n",
              "    .dataframe tbody tr th:only-of-type {\n",
              "        vertical-align: middle;\n",
              "    }\n",
              "\n",
              "    .dataframe tbody tr th {\n",
              "        vertical-align: top;\n",
              "    }\n",
              "\n",
              "    .dataframe thead th {\n",
              "        text-align: right;\n",
              "    }\n",
              "</style>\n",
              "<table border=\"1\" class=\"dataframe\">\n",
              "  <thead>\n",
              "    <tr style=\"text-align: right;\">\n",
              "      <th></th>\n",
              "      <th>id</th>\n",
              "      <th>breed</th>\n",
              "    </tr>\n",
              "  </thead>\n",
              "  <tbody>\n",
              "    <tr>\n",
              "      <th>0</th>\n",
              "      <td>000bec180eb18c7604dcecc8fe0dba07</td>\n",
              "      <td>boston_bull</td>\n",
              "    </tr>\n",
              "    <tr>\n",
              "      <th>1</th>\n",
              "      <td>001513dfcb2ffafc82cccf4d8bbaba97</td>\n",
              "      <td>dingo</td>\n",
              "    </tr>\n",
              "    <tr>\n",
              "      <th>2</th>\n",
              "      <td>001cdf01b096e06d78e9e5112d419397</td>\n",
              "      <td>pekinese</td>\n",
              "    </tr>\n",
              "    <tr>\n",
              "      <th>3</th>\n",
              "      <td>00214f311d5d2247d5dfe4fe24b2303d</td>\n",
              "      <td>bluetick</td>\n",
              "    </tr>\n",
              "    <tr>\n",
              "      <th>4</th>\n",
              "      <td>0021f9ceb3235effd7fcde7f7538ed62</td>\n",
              "      <td>golden_retriever</td>\n",
              "    </tr>\n",
              "  </tbody>\n",
              "</table>\n",
              "</div>"
            ],
            "text/plain": [
              "                                 id             breed\n",
              "0  000bec180eb18c7604dcecc8fe0dba07       boston_bull\n",
              "1  001513dfcb2ffafc82cccf4d8bbaba97             dingo\n",
              "2  001cdf01b096e06d78e9e5112d419397          pekinese\n",
              "3  00214f311d5d2247d5dfe4fe24b2303d          bluetick\n",
              "4  0021f9ceb3235effd7fcde7f7538ed62  golden_retriever"
            ]
          },
          "metadata": {
            "tags": []
          },
          "execution_count": 5
        }
      ]
    },
    {
      "cell_type": "code",
      "metadata": {
        "id": "6WOrULQEhPhe",
        "colab_type": "code",
        "colab": {
          "base_uri": "https://localhost:8080/",
          "height": 166
        },
        "outputId": "e78f47c7-5446-4d43-f458-d309c18cc670"
      },
      "source": [
        "labels_csv.info()"
      ],
      "execution_count": 6,
      "outputs": [
        {
          "output_type": "stream",
          "text": [
            "<class 'pandas.core.frame.DataFrame'>\n",
            "RangeIndex: 10222 entries, 0 to 10221\n",
            "Data columns (total 2 columns):\n",
            " #   Column  Non-Null Count  Dtype \n",
            "---  ------  --------------  ----- \n",
            " 0   id      10222 non-null  object\n",
            " 1   breed   10222 non-null  object\n",
            "dtypes: object(2)\n",
            "memory usage: 159.8+ KB\n"
          ],
          "name": "stdout"
        }
      ]
    },
    {
      "cell_type": "code",
      "metadata": {
        "id": "Mh04TpQCfd_j",
        "colab_type": "code",
        "colab": {
          "base_uri": "https://localhost:8080/",
          "height": 216
        },
        "outputId": "364191ab-948c-46da-d197-c87b6ce91e62"
      },
      "source": [
        "# Let's see the no. of images of each breed\n",
        "labels_csv[\"breed\"].value_counts()"
      ],
      "execution_count": 7,
      "outputs": [
        {
          "output_type": "execute_result",
          "data": {
            "text/plain": [
              "scottish_deerhound      126\n",
              "maltese_dog             117\n",
              "afghan_hound            116\n",
              "entlebucher             115\n",
              "bernese_mountain_dog    114\n",
              "                       ... \n",
              "brabancon_griffon        67\n",
              "golden_retriever         67\n",
              "komondor                 67\n",
              "briard                   66\n",
              "eskimo_dog               66\n",
              "Name: breed, Length: 120, dtype: int64"
            ]
          },
          "metadata": {
            "tags": []
          },
          "execution_count": 7
        }
      ]
    },
    {
      "cell_type": "code",
      "metadata": {
        "id": "-0JZQqptiDs9",
        "colab_type": "code",
        "colab": {
          "base_uri": "https://localhost:8080/",
          "height": 733
        },
        "outputId": "844a7ec1-1c64-4be4-afca-dfae3e55eafe"
      },
      "source": [
        "# let's visualize it\n",
        "ax = labels_csv[\"breed\"].value_counts().plot.bar(figsize=(20,10));"
      ],
      "execution_count": 8,
      "outputs": [
        {
          "output_type": "display_data",
          "data": {
            "image/png": "[encoded data removed]",
            "text/plain": [
              "<Figure size 1440x720 with 1 Axes>"
            ]
          },
          "metadata": {
            "tags": [],
            "needs_background": "light"
          }
        }
      ]
    },
    {
      "cell_type": "code",
      "metadata": {
        "id": "25fqT1qXiQnY",
        "colab_type": "code",
        "colab": {}
      },
      "source": [
        "# To display the Images\n",
        "from IPython.display import display, Image\n",
        "# Image(\"drive/My Drive/Dog vision/train/001513dfcb2ffafc82cccf4d8bbaba97.jpg\")"
      ],
      "execution_count": 9,
      "outputs": []
    },
    {
      "cell_type": "markdown",
      "metadata": {
        "id": "zweVQgfW8bm8",
        "colab_type": "text"
      },
      "source": [
        "## Getting Images and their labels\n",
        "Let's get list of our images file Pathnames"
      ]
    },
    {
      "cell_type": "code",
      "metadata": {
        "id": "Ss2o2-g_-TGG",
        "colab_type": "code",
        "colab": {
          "base_uri": "https://localhost:8080/",
          "height": 183
        },
        "outputId": "39fc88b3-07e2-45ff-d2f4-2f8e17ed61fa"
      },
      "source": [
        "\n",
        "# Create filenames from ID\n",
        "filenames = [\"drive/My Drive/Dog vision/train/\" + fname + \".jpg\" for fname in labels_csv[\"id\"]]\n",
        "filenames[:10]"
      ],
      "execution_count": 10,
      "outputs": [
        {
          "output_type": "execute_result",
          "data": {
            "text/plain": [
              "['drive/My Drive/Dog vision/train/000bec180eb18c7604dcecc8fe0dba07.jpg',\n",
              " 'drive/My Drive/Dog vision/train/001513dfcb2ffafc82cccf4d8bbaba97.jpg',\n",
              " 'drive/My Drive/Dog vision/train/001cdf01b096e06d78e9e5112d419397.jpg',\n",
              " 'drive/My Drive/Dog vision/train/00214f311d5d2247d5dfe4fe24b2303d.jpg',\n",
              " 'drive/My Drive/Dog vision/train/0021f9ceb3235effd7fcde7f7538ed62.jpg',\n",
              " 'drive/My Drive/Dog vision/train/002211c81b498ef88e1b40b9abf84e1d.jpg',\n",
              " 'drive/My Drive/Dog vision/train/00290d3e1fdd27226ba27a8ce248ce85.jpg',\n",
              " 'drive/My Drive/Dog vision/train/002a283a315af96eaea0e28e7163b21b.jpg',\n",
              " 'drive/My Drive/Dog vision/train/003df8b8a8b05244b1d920bb6cf451f9.jpg',\n",
              " 'drive/My Drive/Dog vision/train/0042188c895a2f14ef64a918ed9c7b64.jpg']"
            ]
          },
          "metadata": {
            "tags": []
          },
          "execution_count": 10
        }
      ]
    },
    {
      "cell_type": "code",
      "metadata": {
        "id": "Jy3DZ5Z9-oVp",
        "colab_type": "code",
        "colab": {
          "base_uri": "https://localhost:8080/",
          "height": 33
        },
        "outputId": "a722c4f7-7b16-437e-8797-2c4b6c3b7f81"
      },
      "source": [
        "# Checking whether the number of filenames mathcing to the actual images files in train folder\n",
        "import os\n",
        "if len(os.listdir(\"drive/My Drive/Dog vision/train/\")) == len(filenames):\n",
        "  print(\"Number of files Matched Proceed!\")\n",
        "else:\n",
        "  print(\"Files Not Matched Erorr!\")\n",
        "  \n",
        "  "
      ],
      "execution_count": 12,
      "outputs": [
        {
          "output_type": "stream",
          "text": [
            "Number of files Matched Proceed!\n"
          ],
          "name": "stdout"
        }
      ]
    },
    {
      "cell_type": "markdown",
      "metadata": {
        "id": "QjzwrVFCkVBk",
        "colab_type": "text"
      },
      "source": [
        "### Since Now we've got our FilePath ready, let's prepare our labels"
      ]
    },
    {
      "cell_type": "code",
      "metadata": {
        "id": "zPeRWlw559Zy",
        "colab_type": "code",
        "colab": {
          "base_uri": "https://localhost:8080/",
          "height": 50
        },
        "outputId": "3e016483-762f-4613-b58c-70e0ff33d9f8"
      },
      "source": [
        "labels = labels_csv['breed'].to_numpy()  #to_numpy() converts into numpy array\n",
        "labels"
      ],
      "execution_count": 13,
      "outputs": [
        {
          "output_type": "execute_result",
          "data": {
            "text/plain": [
              "array(['boston_bull', 'dingo', 'pekinese', ..., 'airedale',\n",
              "       'miniature_pinscher', 'chesapeake_bay_retriever'], dtype=object)"
            ]
          },
          "metadata": {
            "tags": []
          },
          "execution_count": 13
        }
      ]
    },
    {
      "cell_type": "code",
      "metadata": {
        "id": "A4ViQniVlDRB",
        "colab_type": "code",
        "colab": {
          "base_uri": "https://localhost:8080/",
          "height": 33
        },
        "outputId": "571e794e-11ce-4871-f242-8d805039d8cc"
      },
      "source": [
        "len(labels)"
      ],
      "execution_count": 14,
      "outputs": [
        {
          "output_type": "execute_result",
          "data": {
            "text/plain": [
              "10222"
            ]
          },
          "metadata": {
            "tags": []
          },
          "execution_count": 14
        }
      ]
    },
    {
      "cell_type": "code",
      "metadata": {
        "id": "tSoICuThlLbH",
        "colab_type": "code",
        "colab": {
          "base_uri": "https://localhost:8080/",
          "height": 33
        },
        "outputId": "dd6a615a-31d5-4041-bee7-393d7856d41b"
      },
      "source": [
        "#let's see if number of labels matches number of filenames\n",
        "if len(labels) == len(filenames):\n",
        "  print(\"No. of Labels Matches No. of Filenames! Proceed.\")\n",
        "else:\n",
        "  print(\"Check Again! Labels does't matches Filenames\")\n"
      ],
      "execution_count": 15,
      "outputs": [
        {
          "output_type": "stream",
          "text": [
            "No. of Labels Matches No. of Filenames! Proceed.\n"
          ],
          "name": "stdout"
        }
      ]
    },
    {
      "cell_type": "code",
      "metadata": {
        "id": "NRHk0toHmJjo",
        "colab_type": "code",
        "colab": {
          "base_uri": "https://localhost:8080/",
          "height": 616
        },
        "outputId": "cab73c7b-ab94-4489-cbe7-b807f822e1d0"
      },
      "source": [
        "# Find the unique label values\n",
        "unique_breeds = np.unique(labels)\n",
        "unique_breeds"
      ],
      "execution_count": 16,
      "outputs": [
        {
          "output_type": "execute_result",
          "data": {
            "text/plain": [
              "array(['affenpinscher', 'afghan_hound', 'african_hunting_dog', 'airedale',\n",
              "       'american_staffordshire_terrier', 'appenzeller',\n",
              "       'australian_terrier', 'basenji', 'basset', 'beagle',\n",
              "       'bedlington_terrier', 'bernese_mountain_dog',\n",
              "       'black-and-tan_coonhound', 'blenheim_spaniel', 'bloodhound',\n",
              "       'bluetick', 'border_collie', 'border_terrier', 'borzoi',\n",
              "       'boston_bull', 'bouvier_des_flandres', 'boxer',\n",
              "       'brabancon_griffon', 'briard', 'brittany_spaniel', 'bull_mastiff',\n",
              "       'cairn', 'cardigan', 'chesapeake_bay_retriever', 'chihuahua',\n",
              "       'chow', 'clumber', 'cocker_spaniel', 'collie',\n",
              "       'curly-coated_retriever', 'dandie_dinmont', 'dhole', 'dingo',\n",
              "       'doberman', 'english_foxhound', 'english_setter',\n",
              "       'english_springer', 'entlebucher', 'eskimo_dog',\n",
              "       'flat-coated_retriever', 'french_bulldog', 'german_shepherd',\n",
              "       'german_short-haired_pointer', 'giant_schnauzer',\n",
              "       'golden_retriever', 'gordon_setter', 'great_dane',\n",
              "       'great_pyrenees', 'greater_swiss_mountain_dog', 'groenendael',\n",
              "       'ibizan_hound', 'irish_setter', 'irish_terrier',\n",
              "       'irish_water_spaniel', 'irish_wolfhound', 'italian_greyhound',\n",
              "       'japanese_spaniel', 'keeshond', 'kelpie', 'kerry_blue_terrier',\n",
              "       'komondor', 'kuvasz', 'labrador_retriever', 'lakeland_terrier',\n",
              "       'leonberg', 'lhasa', 'malamute', 'malinois', 'maltese_dog',\n",
              "       'mexican_hairless', 'miniature_pinscher', 'miniature_poodle',\n",
              "       'miniature_schnauzer', 'newfoundland', 'norfolk_terrier',\n",
              "       'norwegian_elkhound', 'norwich_terrier', 'old_english_sheepdog',\n",
              "       'otterhound', 'papillon', 'pekinese', 'pembroke', 'pomeranian',\n",
              "       'pug', 'redbone', 'rhodesian_ridgeback', 'rottweiler',\n",
              "       'saint_bernard', 'saluki', 'samoyed', 'schipperke',\n",
              "       'scotch_terrier', 'scottish_deerhound', 'sealyham_terrier',\n",
              "       'shetland_sheepdog', 'shih-tzu', 'siberian_husky', 'silky_terrier',\n",
              "       'soft-coated_wheaten_terrier', 'staffordshire_bullterrier',\n",
              "       'standard_poodle', 'standard_schnauzer', 'sussex_spaniel',\n",
              "       'tibetan_mastiff', 'tibetan_terrier', 'toy_poodle', 'toy_terrier',\n",
              "       'vizsla', 'walker_hound', 'weimaraner', 'welsh_springer_spaniel',\n",
              "       'west_highland_white_terrier', 'whippet',\n",
              "       'wire-haired_fox_terrier', 'yorkshire_terrier'], dtype=object)"
            ]
          },
          "metadata": {
            "tags": []
          },
          "execution_count": 16
        }
      ]
    },
    {
      "cell_type": "code",
      "metadata": {
        "id": "sd4sOjFmnrLi",
        "colab_type": "code",
        "colab": {
          "base_uri": "https://localhost:8080/",
          "height": 266
        },
        "outputId": "e4ac7ccb-e7df-4458-e135-5a2c641bc491"
      },
      "source": [
        "# turn single label into an array\n",
        "print(labels[1])\n",
        "labels[1] == unique_breeds"
      ],
      "execution_count": 17,
      "outputs": [
        {
          "output_type": "stream",
          "text": [
            "dingo\n"
          ],
          "name": "stdout"
        },
        {
          "output_type": "execute_result",
          "data": {
            "text/plain": [
              "array([False, False, False, False, False, False, False, False, False,\n",
              "       False, False, False, False, False, False, False, False, False,\n",
              "       False, False, False, False, False, False, False, False, False,\n",
              "       False, False, False, False, False, False, False, False, False,\n",
              "       False,  True, False, False, False, False, False, False, False,\n",
              "       False, False, False, False, False, False, False, False, False,\n",
              "       False, False, False, False, False, False, False, False, False,\n",
              "       False, False, False, False, False, False, False, False, False,\n",
              "       False, False, False, False, False, False, False, False, False,\n",
              "       False, False, False, False, False, False, False, False, False,\n",
              "       False, False, False, False, False, False, False, False, False,\n",
              "       False, False, False, False, False, False, False, False, False,\n",
              "       False, False, False, False, False, False, False, False, False,\n",
              "       False, False, False])"
            ]
          },
          "metadata": {
            "tags": []
          },
          "execution_count": 17
        }
      ]
    },
    {
      "cell_type": "code",
      "metadata": {
        "id": "EhqINtLfqq4b",
        "colab_type": "code",
        "colab": {
          "base_uri": "https://localhost:8080/",
          "height": 483
        },
        "outputId": "78391385-53d5-44a3-b6a2-4933430a3fc5"
      },
      "source": [
        "# Turn every label into a Boolean Array\n",
        "boolean_labels = [label == unique_breeds for label in labels]\n",
        "boolean_labels[:2]"
      ],
      "execution_count": 18,
      "outputs": [
        {
          "output_type": "execute_result",
          "data": {
            "text/plain": [
              "[array([False, False, False, False, False, False, False, False, False,\n",
              "        False, False, False, False, False, False, False, False, False,\n",
              "        False,  True, False, False, False, False, False, False, False,\n",
              "        False, False, False, False, False, False, False, False, False,\n",
              "        False, False, False, False, False, False, False, False, False,\n",
              "        False, False, False, False, False, False, False, False, False,\n",
              "        False, False, False, False, False, False, False, False, False,\n",
              "        False, False, False, False, False, False, False, False, False,\n",
              "        False, False, False, False, False, False, False, False, False,\n",
              "        False, False, False, False, False, False, False, False, False,\n",
              "        False, False, False, False, False, False, False, False, False,\n",
              "        False, False, False, False, False, False, False, False, False,\n",
              "        False, False, False, False, False, False, False, False, False,\n",
              "        False, False, False]),\n",
              " array([False, False, False, False, False, False, False, False, False,\n",
              "        False, False, False, False, False, False, False, False, False,\n",
              "        False, False, False, False, False, False, False, False, False,\n",
              "        False, False, False, False, False, False, False, False, False,\n",
              "        False,  True, False, False, False, False, False, False, False,\n",
              "        False, False, False, False, False, False, False, False, False,\n",
              "        False, False, False, False, False, False, False, False, False,\n",
              "        False, False, False, False, False, False, False, False, False,\n",
              "        False, False, False, False, False, False, False, False, False,\n",
              "        False, False, False, False, False, False, False, False, False,\n",
              "        False, False, False, False, False, False, False, False, False,\n",
              "        False, False, False, False, False, False, False, False, False,\n",
              "        False, False, False, False, False, False, False, False, False,\n",
              "        False, False, False])]"
            ]
          },
          "metadata": {
            "tags": []
          },
          "execution_count": 18
        }
      ]
    },
    {
      "cell_type": "code",
      "metadata": {
        "id": "qN2cncUBrq2w",
        "colab_type": "code",
        "colab": {
          "base_uri": "https://localhost:8080/",
          "height": 33
        },
        "outputId": "4ec35c11-6037-4b61-fbd9-5b827adc805e"
      },
      "source": [
        "len(boolean_labels)"
      ],
      "execution_count": 19,
      "outputs": [
        {
          "output_type": "execute_result",
          "data": {
            "text/plain": [
              "10222"
            ]
          },
          "metadata": {
            "tags": []
          },
          "execution_count": 19
        }
      ]
    },
    {
      "cell_type": "markdown",
      "metadata": {
        "id": "gDHxtLGjs9_X",
        "colab_type": "text"
      },
      "source": [
        "## Turning **Boolean Labels into Integers**"
      ]
    },
    {
      "cell_type": "code",
      "metadata": {
        "id": "oq57D21ktIWV",
        "colab_type": "code",
        "colab": {
          "base_uri": "https://localhost:8080/",
          "height": 133
        },
        "outputId": "ac71e2ef-7a69-44aa-8866-fbb34f67ce9a"
      },
      "source": [
        "print(labels[1]) #Original Label\n",
        "print(np.where(unique_breeds == labels[1])) #index where label occur in unique_breeds \n",
        "print(boolean_labels[1].argmax()) #argmax returns max value in the array\n",
        "print(boolean_labels[1].astype(int)) #converts boolean values into Int"
      ],
      "execution_count": 21,
      "outputs": [
        {
          "output_type": "stream",
          "text": [
            "dingo\n",
            "(array([37]),)\n",
            "37\n",
            "[0 0 0 0 0 0 0 0 0 0 0 0 0 0 0 0 0 0 0 0 0 0 0 0 0 0 0 0 0 0 0 0 0 0 0 0 0\n",
            " 1 0 0 0 0 0 0 0 0 0 0 0 0 0 0 0 0 0 0 0 0 0 0 0 0 0 0 0 0 0 0 0 0 0 0 0 0\n",
            " 0 0 0 0 0 0 0 0 0 0 0 0 0 0 0 0 0 0 0 0 0 0 0 0 0 0 0 0 0 0 0 0 0 0 0 0 0\n",
            " 0 0 0 0 0 0 0 0 0]\n"
          ],
          "name": "stdout"
        }
      ]
    },
    {
      "cell_type": "markdown",
      "metadata": {
        "id": "lRM9JQEwxiPf",
        "colab_type": "text"
      },
      "source": [
        "## Creating our own Validation set\n",
        "Since kaggle doesn't provide any validation set."
      ]
    },
    {
      "cell_type": "code",
      "metadata": {
        "id": "ilgLZRavtYB-",
        "colab_type": "code",
        "colab": {}
      },
      "source": [
        "# Setup X and Y variables\n",
        "X = filenames\n",
        "y = boolean_labels"
      ],
      "execution_count": null,
      "outputs": []
    },
    {
      "cell_type": "markdown",
      "metadata": {
        "id": "AoAlt3SUysqt",
        "colab_type": "text"
      },
      "source": [
        "Since Experimenting with 10k images might take long, so we'll experiment with ~1000 images at first & increases as needed."
      ]
    },
    {
      "cell_type": "code",
      "metadata": {
        "id": "xxrTri_GygNM",
        "colab_type": "code",
        "colab": {}
      },
      "source": [
        "# Set number of images\n",
        "NUM_IMAGES = 1000 #@param {type:\"slider\", min:1000, max:10000, step:1000}"
      ],
      "execution_count": null,
      "outputs": []
    },
    {
      "cell_type": "code",
      "metadata": {
        "id": "6DQFWw1w1QSM",
        "colab_type": "code",
        "colab": {}
      },
      "source": [
        "# Let's split our data into train & valid sets\n",
        "from sklearn.model_selection import train_test_split\n",
        "\n",
        "# let's split our data into train and valid\n",
        "X_train, X_valid, y_train, y_valid = train_test_split(X[:NUM_IMAGES],\n",
        "                                                      y[:NUM_IMAGES],\n",
        "                                                      test_size=0.2,\n",
        "                                                      random_state=42)\n",
        "len(X_train), len(X_valid), len(y_train), len(y_valid)"
      ],
      "execution_count": null,
      "outputs": []
    },
    {
      "cell_type": "code",
      "metadata": {
        "id": "swCXX93p36wv",
        "colab_type": "code",
        "colab": {}
      },
      "source": [
        "#Let's peek into our train and test data\n",
        "X_train[:5], y_train[:2]"
      ],
      "execution_count": null,
      "outputs": []
    },
    {
      "cell_type": "markdown",
      "metadata": {
        "id": "ezBGLfNAQy6_",
        "colab_type": "text"
      },
      "source": [
        "## Pre-processing of Image (Turning into Tensors)\n",
        "To process our images into Tensors we're going to write a function which does few things.\n",
        "1. Take Image filepath as input.\n",
        "2. Use Tensorflow to read the image file and save it to a variable, `image`.\n",
        "3. Turn our `image` (jpg) into Tensors.\n",
        "4. Normalise our image (convert our color channel values from 0-255 to 0-1). \n",
        "5. Resize the image to be a shape of (224,224).\n",
        "6. Return the modified image.\n",
        "\n",
        "Before creating function let's peek how a tensor image look like"
      ]
    },
    {
      "cell_type": "code",
      "metadata": {
        "id": "kGNvX-2a4Hwe",
        "colab_type": "code",
        "colab": {
          "base_uri": "https://localhost:8080/",
          "height": 833
        },
        "outputId": "b7367e5f-750f-4417-be6b-9d6b63037fcb"
      },
      "source": [
        "# Convert single image into numpy array\n",
        "from matplotlib.pyplot import imread\n",
        "image = imread(filenames[42])\n",
        "len(image),image"
      ],
      "execution_count": 25,
      "outputs": [
        {
          "output_type": "execute_result",
          "data": {
            "text/plain": [
              "(257, array([[[ 89, 137,  87],\n",
              "         [ 76, 124,  74],\n",
              "         [ 63, 111,  59],\n",
              "         ...,\n",
              "         [ 76, 134,  86],\n",
              "         [ 76, 134,  86],\n",
              "         [ 76, 134,  86]],\n",
              " \n",
              "        [[ 72, 119,  73],\n",
              "         [ 67, 114,  68],\n",
              "         [ 63, 111,  63],\n",
              "         ...,\n",
              "         [ 75, 131,  84],\n",
              "         [ 74, 132,  84],\n",
              "         [ 74, 131,  86]],\n",
              " \n",
              "        [[ 56, 104,  66],\n",
              "         [ 58, 106,  66],\n",
              "         [ 64, 112,  72],\n",
              "         ...,\n",
              "         [ 71, 127,  82],\n",
              "         [ 73, 129,  84],\n",
              "         [ 73, 130,  85]],\n",
              " \n",
              "        ...,\n",
              " \n",
              "        [[  2,  11,  10],\n",
              "         [  5,  14,  13],\n",
              "         [  6,  15,  14],\n",
              "         ...,\n",
              "         [120, 113,  67],\n",
              "         [126, 118,  72],\n",
              "         [122, 114,  67]],\n",
              " \n",
              "        [[  0,   4,   6],\n",
              "         [  0,   9,   8],\n",
              "         [  1,  10,   9],\n",
              "         ...,\n",
              "         [105,  98,  52],\n",
              "         [111, 104,  58],\n",
              "         [111, 103,  56]],\n",
              " \n",
              "        [[ 18,  16,  37],\n",
              "         [ 18,  18,  28],\n",
              "         [ 17,  20,  11],\n",
              "         ...,\n",
              "         [101,  92,  53],\n",
              "         [ 97,  88,  49],\n",
              "         [120, 111,  72]]], dtype=uint8))"
            ]
          },
          "metadata": {
            "tags": []
          },
          "execution_count": 25
        }
      ]
    },
    {
      "cell_type": "code",
      "metadata": {
        "id": "Tspa27uLX0MW",
        "colab_type": "code",
        "colab": {
          "base_uri": "https://localhost:8080/",
          "height": 850
        },
        "outputId": "57ed94a1-b914-4522-dc44-06aabc8d4678"
      },
      "source": [
        "# Convert single image into tensor\n",
        "tf.constant(image)"
      ],
      "execution_count": 26,
      "outputs": [
        {
          "output_type": "execute_result",
          "data": {
            "text/plain": [
              "<tf.Tensor: shape=(257, 350, 3), dtype=uint8, numpy=\n",
              "array([[[ 89, 137,  87],\n",
              "        [ 76, 124,  74],\n",
              "        [ 63, 111,  59],\n",
              "        ...,\n",
              "        [ 76, 134,  86],\n",
              "        [ 76, 134,  86],\n",
              "        [ 76, 134,  86]],\n",
              "\n",
              "       [[ 72, 119,  73],\n",
              "        [ 67, 114,  68],\n",
              "        [ 63, 111,  63],\n",
              "        ...,\n",
              "        [ 75, 131,  84],\n",
              "        [ 74, 132,  84],\n",
              "        [ 74, 131,  86]],\n",
              "\n",
              "       [[ 56, 104,  66],\n",
              "        [ 58, 106,  66],\n",
              "        [ 64, 112,  72],\n",
              "        ...,\n",
              "        [ 71, 127,  82],\n",
              "        [ 73, 129,  84],\n",
              "        [ 73, 130,  85]],\n",
              "\n",
              "       ...,\n",
              "\n",
              "       [[  2,  11,  10],\n",
              "        [  5,  14,  13],\n",
              "        [  6,  15,  14],\n",
              "        ...,\n",
              "        [120, 113,  67],\n",
              "        [126, 118,  72],\n",
              "        [122, 114,  67]],\n",
              "\n",
              "       [[  0,   4,   6],\n",
              "        [  0,   9,   8],\n",
              "        [  1,  10,   9],\n",
              "        ...,\n",
              "        [105,  98,  52],\n",
              "        [111, 104,  58],\n",
              "        [111, 103,  56]],\n",
              "\n",
              "       [[ 18,  16,  37],\n",
              "        [ 18,  18,  28],\n",
              "        [ 17,  20,  11],\n",
              "        ...,\n",
              "        [101,  92,  53],\n",
              "        [ 97,  88,  49],\n",
              "        [120, 111,  72]]], dtype=uint8)>"
            ]
          },
          "metadata": {
            "tags": []
          },
          "execution_count": 26
        }
      ]
    },
    {
      "cell_type": "code",
      "metadata": {
        "id": "W9YcrN6YNNLW",
        "colab_type": "code",
        "colab": {}
      },
      "source": [
        "# Define image size\n",
        "IMG_SIZE = 224\n",
        "\n",
        "# Create a Function for preprocessing\n",
        "def preprocess(image_path, img_size=IMG_SIZE):\n",
        "  \"\"\"\n",
        "  Preprocess The Image and convert into tensors.\n",
        "  \"\"\"\n",
        "  # Input the Image file path\n",
        "  image = tf.io.read_file(image_path)\n",
        "\n",
        "  # Turn the jpeg image into numerical Tensors with 3 color channel(Red, Green and Blue)\n",
        "  image = tf.image.decode_jpeg(image, channels=3)\n",
        "\n",
        "  # normalise the color channel values from 0-255 to 0-1\n",
        "  image = tf.image.convert_image_dtype(image, tf.float32)\n",
        "\n",
        "  # Resize the image\n",
        "  image = tf.image.resize(image,[img_size, img_size])\n",
        "\n",
        "  return image"
      ],
      "execution_count": null,
      "outputs": []
    },
    {
      "cell_type": "markdown",
      "metadata": {
        "id": "UcxjywzLYeNP",
        "colab_type": "text"
      },
      "source": [
        ""
      ]
    },
    {
      "cell_type": "markdown",
      "metadata": {
        "id": "5aQld0JxYfwU",
        "colab_type": "text"
      },
      "source": [
        "## Turning our Data into Batches\n",
        "Why turn our data into batches?\n",
        "let's say if your are trying to process 10000 images at one go...\n",
        "\n",
        "They all might not fit into memory.\n",
        "\n",
        "So that's why we do 32(batch size) images at a time.\n",
        "\n",
        "In order to use Tensorflow effectively, we need our data in the form of tensor tuples: `(image, label)`.\n",
        "\n"
      ]
    },
    {
      "cell_type": "code",
      "metadata": {
        "id": "FWAWQNmbft5J",
        "colab_type": "code",
        "colab": {}
      },
      "source": [
        "# Create a simple function to return a tuple\n",
        "def get_image_label(image_path, label):\n",
        "  \"\"\"\n",
        "  returns the image and label into tuple form\n",
        "  \"\"\"\n",
        "  image = preprocess(image_path)\n",
        "  return image, label"
      ],
      "execution_count": null,
      "outputs": []
    },
    {
      "cell_type": "code",
      "metadata": {
        "id": "EWh66ndJjdOA",
        "colab_type": "code",
        "colab": {}
      },
      "source": [
        "(preprocess(X[42]),tf.constant(y[42]))"
      ],
      "execution_count": null,
      "outputs": []
    },
    {
      "cell_type": "markdown",
      "metadata": {
        "id": "W-FTOcCsHKRO",
        "colab_type": "text"
      },
      "source": [
        "Now've got a way to turn our data into Tuples of Tensors in the form of `(image, label)`, Let's make a function to create Batches for our data `X` and `y`."
      ]
    },
    {
      "cell_type": "code",
      "metadata": {
        "id": "sFxGCwlhj5b-",
        "colab_type": "code",
        "colab": {}
      },
      "source": [
        "# define the batch size, 32 is good start\n",
        "BATCH_SIZE = 32\n",
        "\n",
        "# Create a Function to Turn Data into Batches\n",
        "def create_data_batches(X, y, batch_size=BATCH_SIZE, valid_data=False, test_data=False):\n",
        "  \"\"\"\n",
        "  Creates Batches of data out of image (X) and label (y) pairs.\n",
        "  Shuffle the data if it's training data but doesn't shuffle valid data.\n",
        "  Also accepts test data as input(no labels).\n",
        "  \"\"\"\n",
        "  # If the Data is Test data, we probably don't have labels\n",
        "  if test_data:\n",
        "    print(\"Creating Test Data Batches...\")\n",
        "    data = tf.data.Dataset.from_tensor_slices((tf.constant(X))) #Only filepaths(no label)\n",
        "\n",
        "    data_batch = data.map(process_image).batch(BATCH_SIZE)\n",
        "\n",
        "    return data_batch\n",
        "\n",
        "  # If the Data is Valid data, we don't need to shuffle it\n",
        "  elif valid_data:\n",
        "    print(\"Creating Valid data batches\")\n",
        "    data = tf.data.Dataset.from_tensor_slices((tf.constant(X), #Filepath\n",
        "                                               tf.constant(y))) #Label\n",
        "\n",
        "    data_batch = data.map(get_image_label).batch(BATCH_SIZE)\n",
        "    return data_batch\n",
        "\n",
        "  # If the Data is Training data, we had to shuffle it before processing Images\n",
        "  # As it will save Computation Time\n",
        "  else:\n",
        "    print(\"Creating Training Data Batches...\")\n",
        "    # Turn Filepaths and Labels into Tensors\n",
        "    data = tf.data.Dataset.from_tensor_slices((tf.constant(X), \n",
        "                                               tf.constant(y)))\n",
        "    # Shuffling the pathnames and labels before Mapping image process function\n",
        "    data = data.shuffle(buffer_size=len(X))\n",
        "\n",
        "    # Create (image, label) tuples, it also turns the image path into processed image\n",
        "    data_batch = data.map(get_image_label).batch(BATCH_SIZE)\n",
        "  return data_batch\n",
        "    "
      ],
      "execution_count": null,
      "outputs": []
    },
    {
      "cell_type": "code",
      "metadata": {
        "id": "ibdfRoNfUIIM",
        "colab_type": "code",
        "colab": {}
      },
      "source": [
        "# Creating Validation and training data BATCHES\n",
        "train_data = create_data_batches(X_train, y_train)\n",
        "valid_data = create_data_batches(X_valid, y_valid, valid_data=True)"
      ],
      "execution_count": null,
      "outputs": []
    },
    {
      "cell_type": "code",
      "metadata": {
        "id": "_gA1WlflUdr4",
        "colab_type": "code",
        "colab": {}
      },
      "source": [
        "# Check out the attributes of our data Batches\n",
        "train_data.element_spec, valid_data.element_spec"
      ],
      "execution_count": null,
      "outputs": []
    },
    {
      "cell_type": "markdown",
      "metadata": {
        "id": "5El7ss7Qvzw1",
        "colab_type": "text"
      },
      "source": [
        "## Visualizing Data Batches\n",
        "Our Data is in batches, this can be a liitle hard to comprehend let's visulaise our data specifically 25 Images. "
      ]
    },
    {
      "cell_type": "code",
      "metadata": {
        "id": "NkECzheuwOld",
        "colab_type": "code",
        "colab": {}
      },
      "source": [
        "import matplotlib.pyplot as plt\n",
        "\n",
        "# Create a function to visulaise batches of Images\n",
        "def image_batch_visualise(image, label):\n",
        "  \"\"\"\n",
        "  Displays a batch of 25 image batch with their labels.\n",
        "  \"\"\"\n",
        "  # Set the figsize\n",
        "  plt.figure(figsize=(10,10))\n",
        "  #Set the loops to display 25 images\n",
        "  for i in range(25):\n",
        "     # set the axis subplots\n",
        "     ax = plt.subplot(5, 5, i+1)\n",
        "     # Display image\n",
        "     plt.imshow(image[i])\n",
        "     # Set the title over the image using label\n",
        "     plt.title(unique_breeds[label[i].argmax()],{'color':'white','fontweight':'23'})\n",
        "     # set the grid off\n",
        "     plt.axis(\"off\")\n"
      ],
      "execution_count": 27,
      "outputs": []
    },
    {
      "cell_type": "markdown",
      "metadata": {
        "id": "re0oTgR6zvlz",
        "colab_type": "text"
      },
      "source": [
        "Now we've craeted our function to visulise the images but before that we first need to `UNBATCH` the proceesed images to visualise them."
      ]
    },
    {
      "cell_type": "code",
      "metadata": {
        "id": "J9A0ITpNzvRB",
        "colab_type": "code",
        "colab": {}
      },
      "source": [
        "train_images, train_labels = next(train_data.as_numpy_iterator())"
      ],
      "execution_count": null,
      "outputs": []
    },
    {
      "cell_type": "code",
      "metadata": {
        "id": "3A--Z1xC1HL_",
        "colab_type": "code",
        "colab": {}
      },
      "source": [
        "len(train_images), len(train_labels)"
      ],
      "execution_count": null,
      "outputs": []
    },
    {
      "cell_type": "code",
      "metadata": {
        "id": "_nSYrzVx1VhC",
        "colab_type": "code",
        "colab": {}
      },
      "source": [
        "# Let's visualise Training batch\n",
        "image_batch_visualise(train_images, train_labels)\n"
      ],
      "execution_count": null,
      "outputs": []
    },
    {
      "cell_type": "code",
      "metadata": {
        "id": "8ezWUZIk3155",
        "colab_type": "code",
        "colab": {}
      },
      "source": [
        "# Let's visualise valid batch\n",
        "valid_images, valid_labels = next(valid_data.as_numpy_iterator())\n",
        "\n"
      ],
      "execution_count": null,
      "outputs": []
    },
    {
      "cell_type": "code",
      "metadata": {
        "id": "Z7ASemmW4Qli",
        "colab_type": "code",
        "colab": {}
      },
      "source": [
        "image_batch_visualise(valid_images, valid_labels)"
      ],
      "execution_count": null,
      "outputs": []
    },
    {
      "cell_type": "code",
      "metadata": {
        "id": "iyR1Lp4H8Xpy",
        "colab_type": "code",
        "colab": {}
      },
      "source": [
        ""
      ],
      "execution_count": null,
      "outputs": []
    },
    {
      "cell_type": "markdown",
      "metadata": {
        "id": "5mkzp4Ix-cBT",
        "colab_type": "text"
      },
      "source": [
        "# Building a Model\n",
        "Before building a model we need to specify certain things to define.\n",
        "1. The input shape (our image shape in the form of tensors) to our model.\n",
        "2. the output shape (our image labels in the form of tensors) to our model.\n",
        "3. URL of the Model which we're going to use."
      ]
    },
    {
      "cell_type": "code",
      "metadata": {
        "id": "lNfhPSDj--3T",
        "colab_type": "code",
        "colab": {}
      },
      "source": [
        "# Setup Input shape (Images)\n",
        "INPUT_SHAPE = [None, IMG_SIZE,IMG_SIZE, 3] #batch, width, height, color channel\n",
        "\n",
        "# Setup OutPut shape (labels)\n",
        "OUTPUT_SHAPE = len(unique_breeds)\n",
        "\n",
        "# URL of TensorFlow Hub\n",
        "URL = ..."
      ],
      "execution_count": null,
      "outputs": []
    }
  ]
}