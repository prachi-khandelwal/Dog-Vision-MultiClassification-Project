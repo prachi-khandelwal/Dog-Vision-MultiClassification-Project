{
  "nbformat": 4,
  "nbformat_minor": 0,
  "metadata": {
    "colab": {
      "name": "end-to-end-dog-vision.ipynb",
      "provenance": [],
      "collapsed_sections": [],
      "mount_file_id": "1bTOTqjJACSh_poxEeaymzsKQb76flGi1",
      "authorship_tag": "ABX9TyNHa3962fwNOnPZmBaPzol4",
      "include_colab_link": true
    },
    "kernelspec": {
      "name": "python3",
      "display_name": "Python 3"
    },
    "accelerator": "GPU"
  },
  "cells": [
    {
      "cell_type": "markdown",
      "metadata": {
        "id": "view-in-github",
        "colab_type": "text"
      },
      "source": [
        "<a href=\"https://colab.research.google.com/github/prachi-khandelwal/Dog-Vision-MultiClassification-Project/blob/master/end_to_end_dog_vision.ipynb\" target=\"_parent\"><img src=\"https://colab.research.google.com/assets/colab-badge.svg\" alt=\"Open In Colab\"/></a>"
      ]
    },
    {
      "cell_type": "markdown",
      "metadata": {
        "id": "ToMI1HKTNZCQ",
        "colab_type": "text"
      },
      "source": [
        ""
      ]
    },
    {
      "cell_type": "markdown",
      "metadata": {
        "id": "Zd84bWcuNlD-",
        "colab_type": "text"
      },
      "source": [
        "# 🐶End-To-End MultiClass Dog Breed Identification\n",
        "\n",
        "this Notebook builds an end-to-end multi-class image classifier using TensolrFlow 2.0 and Tensorflow Hub.\n",
        "\n",
        "## 1. Problem\n",
        "\n",
        "Identifying the breed of the dog given in the image of a dog.\n",
        "\n",
        "When I am roaming around in my locality a dog passed and I wanted to Know the breed of the dog.😊😁\n",
        "\n",
        "## 2. Data\n",
        "\n",
        "The Data we're using is from Kaggle's Dog Breed identification competition.\n",
        "\n",
        "https://www.kaggle.com/c/dog-breed-identification/data\n",
        "\n",
        "## 3. Evaluation\n",
        "\n",
        "The evaluation is the file with Prediction Probabilitiesfor each dog breed in the image.\n",
        "\n",
        "https://www.kaggle.com/c/dog-breed-identification/overview/evaluation\n",
        "## 4. Features\n",
        "\n",
        "Some Information about the Data:\n",
        "* We're dealing with images (unstructured Data) so its probably best to use Deep learning /Transfer Learning.\n",
        "* There are 120 breeds of dogs (this means there are 120 different classes).\n",
        "* There are around 10K images in Trainng set (These Images have Labels).\n",
        "* There are around 10k images in Test set (These Images don't have labels).\n",
        "\n",
        "\n",
        "\n"
      ]
    },
    {
      "cell_type": "code",
      "metadata": {
        "id": "uMeuwQS1Tgw3",
        "colab_type": "code",
        "colab": {}
      },
      "source": [
        "# Unzip the data into Google Drive.\n",
        "# !unzip \"/content/drive/My Drive/Dog vision/dog-breed-identification.zip\" -d \"drive/My Drive/Dog vision\""
      ],
      "execution_count": 3,
      "outputs": []
    },
    {
      "cell_type": "markdown",
      "metadata": {
        "id": "R5zGmNf9TAn8",
        "colab_type": "text"
      },
      "source": [
        "# Get our Workspace Ready!\n",
        "* Import Tensorflow 2.x ✅\n",
        "* Import TensorFlow Hub✅\n",
        "* Make sure we're using a GPU \n"
      ]
    },
    {
      "cell_type": "markdown",
      "metadata": {
        "id": "utbI6ribVD0c",
        "colab_type": "text"
      },
      "source": [
        "Import necessary Tools"
      ]
    },
    {
      "cell_type": "code",
      "metadata": {
        "id": "bwwyr7N9TAO6",
        "colab_type": "code",
        "colab": {
          "base_uri": "https://localhost:8080/",
          "height": 51
        },
        "outputId": "b865df3c-9b30-4a3b-c0eb-46c3b76f0619"
      },
      "source": [
        "# Import TensorFlow into COlAB\n",
        "import tensorflow as tf\n",
        "print(\"Tensorflow version:\",tf.__version__)\n",
        "# Import Tensorflow HUB\n",
        "import tensorflow_hub as hub\n",
        "print(\"Tensorflow hub version:\",hub.__version__)"
      ],
      "execution_count": 22,
      "outputs": [
        {
          "output_type": "stream",
          "text": [
            "Tensorflow version: 2.2.0\n",
            "Tensorflow hub version: 0.8.0\n"
          ],
          "name": "stdout"
        }
      ]
    },
    {
      "cell_type": "code",
      "metadata": {
        "id": "hQ_mNnvnfzhv",
        "colab_type": "code",
        "colab": {
          "base_uri": "https://localhost:8080/",
          "height": 34
        },
        "outputId": "7ba833f7-d8b0-4b2b-d78e-d0b670611197"
      },
      "source": [
        "# Check If a GPU available\n",
        "print(\"GPU\", \"available YEP!\" if tf.config.list_physical_devices(\"GPU\") else \"not available :( \")"
      ],
      "execution_count": 21,
      "outputs": [
        {
          "output_type": "stream",
          "text": [
            "GPU available YEP!\n"
          ],
          "name": "stdout"
        }
      ]
    },
    {
      "cell_type": "markdown",
      "metadata": {
        "id": "fTmOSfURdPX6",
        "colab_type": "text"
      },
      "source": [
        "## Getting our Data ready! (turning into tensors)\n",
        "With all ML models our data must be in numerical format. So that's what we're going to do.\n",
        "Turning our images into tensors(Numerical Representation)\n",
        "\n",
        "Let's start by accessing our data and checking labels\n",
        "\n"
      ]
    },
    {
      "cell_type": "code",
      "metadata": {
        "id": "yHGobkr1ebAD",
        "colab_type": "code",
        "colab": {
          "base_uri": "https://localhost:8080/",
          "height": 289
        },
        "outputId": "a1734f82-e5b4-4b73-b31a-213ef23da9ed"
      },
      "source": [
        "# Checkout the data labels\n",
        "import pandas as pd\n",
        "import numpy as np\n",
        "labels_csv = pd.read_csv(\"drive/My Drive/Dog vision/labels.csv\")\n",
        "print(labels_csv.describe())\n",
        "labels_csv.head()"
      ],
      "execution_count": 23,
      "outputs": [
        {
          "output_type": "stream",
          "text": [
            "                                      id               breed\n",
            "count                              10222               10222\n",
            "unique                             10222                 120\n",
            "top     47d4f98c92dbdee91d4e47dab737cfef  scottish_deerhound\n",
            "freq                                   1                 126\n"
          ],
          "name": "stdout"
        },
        {
          "output_type": "execute_result",
          "data": {
            "text/html": [
              "<div>\n",
              "<style scoped>\n",
              "    .dataframe tbody tr th:only-of-type {\n",
              "        vertical-align: middle;\n",
              "    }\n",
              "\n",
              "    .dataframe tbody tr th {\n",
              "        vertical-align: top;\n",
              "    }\n",
              "\n",
              "    .dataframe thead th {\n",
              "        text-align: right;\n",
              "    }\n",
              "</style>\n",
              "<table border=\"1\" class=\"dataframe\">\n",
              "  <thead>\n",
              "    <tr style=\"text-align: right;\">\n",
              "      <th></th>\n",
              "      <th>id</th>\n",
              "      <th>breed</th>\n",
              "    </tr>\n",
              "  </thead>\n",
              "  <tbody>\n",
              "    <tr>\n",
              "      <th>0</th>\n",
              "      <td>000bec180eb18c7604dcecc8fe0dba07</td>\n",
              "      <td>boston_bull</td>\n",
              "    </tr>\n",
              "    <tr>\n",
              "      <th>1</th>\n",
              "      <td>001513dfcb2ffafc82cccf4d8bbaba97</td>\n",
              "      <td>dingo</td>\n",
              "    </tr>\n",
              "    <tr>\n",
              "      <th>2</th>\n",
              "      <td>001cdf01b096e06d78e9e5112d419397</td>\n",
              "      <td>pekinese</td>\n",
              "    </tr>\n",
              "    <tr>\n",
              "      <th>3</th>\n",
              "      <td>00214f311d5d2247d5dfe4fe24b2303d</td>\n",
              "      <td>bluetick</td>\n",
              "    </tr>\n",
              "    <tr>\n",
              "      <th>4</th>\n",
              "      <td>0021f9ceb3235effd7fcde7f7538ed62</td>\n",
              "      <td>golden_retriever</td>\n",
              "    </tr>\n",
              "  </tbody>\n",
              "</table>\n",
              "</div>"
            ],
            "text/plain": [
              "                                 id             breed\n",
              "0  000bec180eb18c7604dcecc8fe0dba07       boston_bull\n",
              "1  001513dfcb2ffafc82cccf4d8bbaba97             dingo\n",
              "2  001cdf01b096e06d78e9e5112d419397          pekinese\n",
              "3  00214f311d5d2247d5dfe4fe24b2303d          bluetick\n",
              "4  0021f9ceb3235effd7fcde7f7538ed62  golden_retriever"
            ]
          },
          "metadata": {
            "tags": []
          },
          "execution_count": 23
        }
      ]
    },
    {
      "cell_type": "code",
      "metadata": {
        "id": "6WOrULQEhPhe",
        "colab_type": "code",
        "colab": {
          "base_uri": "https://localhost:8080/",
          "height": 170
        },
        "outputId": "d4cfa8e6-bd37-4c5c-d0f0-12216b87ed76"
      },
      "source": [
        "labels_csv.info()"
      ],
      "execution_count": 24,
      "outputs": [
        {
          "output_type": "stream",
          "text": [
            "<class 'pandas.core.frame.DataFrame'>\n",
            "RangeIndex: 10222 entries, 0 to 10221\n",
            "Data columns (total 2 columns):\n",
            " #   Column  Non-Null Count  Dtype \n",
            "---  ------  --------------  ----- \n",
            " 0   id      10222 non-null  object\n",
            " 1   breed   10222 non-null  object\n",
            "dtypes: object(2)\n",
            "memory usage: 159.8+ KB\n"
          ],
          "name": "stdout"
        }
      ]
    },
    {
      "cell_type": "code",
      "metadata": {
        "id": "Mh04TpQCfd_j",
        "colab_type": "code",
        "colab": {
          "base_uri": "https://localhost:8080/",
          "height": 221
        },
        "outputId": "7b977904-266e-4a14-9612-5b44e75bc4f4"
      },
      "source": [
        "# Let's see the no. of images of each breed\n",
        "labels_csv[\"breed\"].value_counts()"
      ],
      "execution_count": 25,
      "outputs": [
        {
          "output_type": "execute_result",
          "data": {
            "text/plain": [
              "scottish_deerhound      126\n",
              "maltese_dog             117\n",
              "afghan_hound            116\n",
              "entlebucher             115\n",
              "bernese_mountain_dog    114\n",
              "                       ... \n",
              "komondor                 67\n",
              "brabancon_griffon        67\n",
              "golden_retriever         67\n",
              "eskimo_dog               66\n",
              "briard                   66\n",
              "Name: breed, Length: 120, dtype: int64"
            ]
          },
          "metadata": {
            "tags": []
          },
          "execution_count": 25
        }
      ]
    },
    {
      "cell_type": "code",
      "metadata": {
        "id": "-0JZQqptiDs9",
        "colab_type": "code",
        "colab": {
          "base_uri": "https://localhost:8080/",
          "height": 733
        },
        "outputId": "791ebac6-5859-4b2a-9e48-9c38b2dedaab"
      },
      "source": [
        "# let's visualize it\n",
        "ax = labels_csv[\"breed\"].value_counts().plot.bar(figsize=(20,10));"
      ],
      "execution_count": 26,
      "outputs": [
        {
          "output_type": "display_data",
          "data": {
            "image/png": "[encoded data removed]",
            "text/plain": [
              "<Figure size 1440x720 with 1 Axes>"
            ]
          },
          "metadata": {
            "tags": [],
            "needs_background": "light"
          }
        }
      ]
    },
    {
      "cell_type": "code",
      "metadata": {
        "id": "25fqT1qXiQnY",
        "colab_type": "code",
        "colab": {}
      },
      "source": [
        "# To display the Images\n",
        "from IPython.display import display, Image\n",
        "# Image(\"drive/My Drive/Dog vision/train/001513dfcb2ffafc82cccf4d8bbaba97.jpg\")"
      ],
      "execution_count": 27,
      "outputs": []
    },
    {
      "cell_type": "markdown",
      "metadata": {
        "id": "zweVQgfW8bm8",
        "colab_type": "text"
      },
      "source": [
        "## Getting Images and their labels\n",
        "Let's get list of our images file Pathnames"
      ]
    },
    {
      "cell_type": "code",
      "metadata": {
        "id": "Ss2o2-g_-TGG",
        "colab_type": "code",
        "colab": {
          "base_uri": "https://localhost:8080/",
          "height": 187
        },
        "outputId": "316e325f-de98-4167-9ca2-55d2e1541c42"
      },
      "source": [
        "\n",
        "# Create filenames from ID\n",
        "filenames = [\"drive/My Drive/Dog vision/train/\" + fname + \".jpg\" for fname in labels_csv[\"id\"]]\n",
        "filenames[:10]"
      ],
      "execution_count": 17,
      "outputs": [
        {
          "output_type": "execute_result",
          "data": {
            "text/plain": [
              "['drive/My Drive/Dog vision/train/000bec180eb18c7604dcecc8fe0dba07.jpg',\n",
              " 'drive/My Drive/Dog vision/train/001513dfcb2ffafc82cccf4d8bbaba97.jpg',\n",
              " 'drive/My Drive/Dog vision/train/001cdf01b096e06d78e9e5112d419397.jpg',\n",
              " 'drive/My Drive/Dog vision/train/00214f311d5d2247d5dfe4fe24b2303d.jpg',\n",
              " 'drive/My Drive/Dog vision/train/0021f9ceb3235effd7fcde7f7538ed62.jpg',\n",
              " 'drive/My Drive/Dog vision/train/002211c81b498ef88e1b40b9abf84e1d.jpg',\n",
              " 'drive/My Drive/Dog vision/train/00290d3e1fdd27226ba27a8ce248ce85.jpg',\n",
              " 'drive/My Drive/Dog vision/train/002a283a315af96eaea0e28e7163b21b.jpg',\n",
              " 'drive/My Drive/Dog vision/train/003df8b8a8b05244b1d920bb6cf451f9.jpg',\n",
              " 'drive/My Drive/Dog vision/train/0042188c895a2f14ef64a918ed9c7b64.jpg']"
            ]
          },
          "metadata": {
            "tags": []
          },
          "execution_count": 17
        }
      ]
    },
    {
      "cell_type": "code",
      "metadata": {
        "id": "Jy3DZ5Z9-oVp",
        "colab_type": "code",
        "colab": {
          "base_uri": "https://localhost:8080/",
          "height": 34
        },
        "outputId": "8dfda254-60b5-48d8-cc5b-91c7dce71d87"
      },
      "source": [
        "# Checking whether the number of filenames mathcing to the actual images files in train folder\n",
        "import os\n",
        "if len(os.listdir(\"drive/My Drive/Dog vision/train/\")) == len(filenames):\n",
        "  print(\"Number of files Matched Proceed!\")\n",
        "else:\n",
        "  print(\"Files Not Matched Erorr!\")\n",
        "  \n",
        "  "
      ],
      "execution_count": 28,
      "outputs": [
        {
          "output_type": "stream",
          "text": [
            "Number of files Matched Proceed!\n"
          ],
          "name": "stdout"
        }
      ]
    },
    {
      "cell_type": "markdown",
      "metadata": {
        "id": "QjzwrVFCkVBk",
        "colab_type": "text"
      },
      "source": [
        "### Since Now we've got our FilePath ready, let's prepare our labels"
      ]
    },
    {
      "cell_type": "code",
      "metadata": {
        "id": "zPeRWlw559Zy",
        "colab_type": "code",
        "colab": {
          "base_uri": "https://localhost:8080/",
          "height": 51
        },
        "outputId": "e147343e-3ce0-4ebd-8223-c674102e8375"
      },
      "source": [
        "labels = labels_csv['breed'].to_numpy()  #to_numpy() converts into numpy array\n",
        "labels"
      ],
      "execution_count": 30,
      "outputs": [
        {
          "output_type": "execute_result",
          "data": {
            "text/plain": [
              "array(['boston_bull', 'dingo', 'pekinese', ..., 'airedale',\n",
              "       'miniature_pinscher', 'chesapeake_bay_retriever'], dtype=object)"
            ]
          },
          "metadata": {
            "tags": []
          },
          "execution_count": 30
        }
      ]
    },
    {
      "cell_type": "code",
      "metadata": {
        "id": "A4ViQniVlDRB",
        "colab_type": "code",
        "colab": {
          "base_uri": "https://localhost:8080/",
          "height": 34
        },
        "outputId": "07b27e00-a09e-4264-82c5-3d584bbf2816"
      },
      "source": [
        "len(labels)"
      ],
      "execution_count": 31,
      "outputs": [
        {
          "output_type": "execute_result",
          "data": {
            "text/plain": [
              "10222"
            ]
          },
          "metadata": {
            "tags": []
          },
          "execution_count": 31
        }
      ]
    },
    {
      "cell_type": "code",
      "metadata": {
        "id": "tSoICuThlLbH",
        "colab_type": "code",
        "colab": {
          "base_uri": "https://localhost:8080/",
          "height": 34
        },
        "outputId": "69b967c2-9acb-4124-9999-cfcdc82245b5"
      },
      "source": [
        "#let's see if number of labels matches number of filenames\n",
        "if len(labels) == len(filenames):\n",
        "  print(\"No. of Labels Matches No. of Filenames! Proceed.\")\n",
        "else:\n",
        "  print(\"Check Again! Labels does't matches Filenames\")\n"
      ],
      "execution_count": 32,
      "outputs": [
        {
          "output_type": "stream",
          "text": [
            "No. of Labels Matches No. of Filenames! Proceed.\n"
          ],
          "name": "stdout"
        }
      ]
    },
    {
      "cell_type": "code",
      "metadata": {
        "id": "NRHk0toHmJjo",
        "colab_type": "code",
        "colab": {
          "base_uri": "https://localhost:8080/",
          "height": 629
        },
        "outputId": "008a7699-1c57-48b7-aadd-b47aa28ac3c5"
      },
      "source": [
        "# Find the unique label values\n",
        "unique_breeds = np.unique(labels)\n",
        "unique_breeds"
      ],
      "execution_count": 33,
      "outputs": [
        {
          "output_type": "execute_result",
          "data": {
            "text/plain": [
              "array(['affenpinscher', 'afghan_hound', 'african_hunting_dog', 'airedale',\n",
              "       'american_staffordshire_terrier', 'appenzeller',\n",
              "       'australian_terrier', 'basenji', 'basset', 'beagle',\n",
              "       'bedlington_terrier', 'bernese_mountain_dog',\n",
              "       'black-and-tan_coonhound', 'blenheim_spaniel', 'bloodhound',\n",
              "       'bluetick', 'border_collie', 'border_terrier', 'borzoi',\n",
              "       'boston_bull', 'bouvier_des_flandres', 'boxer',\n",
              "       'brabancon_griffon', 'briard', 'brittany_spaniel', 'bull_mastiff',\n",
              "       'cairn', 'cardigan', 'chesapeake_bay_retriever', 'chihuahua',\n",
              "       'chow', 'clumber', 'cocker_spaniel', 'collie',\n",
              "       'curly-coated_retriever', 'dandie_dinmont', 'dhole', 'dingo',\n",
              "       'doberman', 'english_foxhound', 'english_setter',\n",
              "       'english_springer', 'entlebucher', 'eskimo_dog',\n",
              "       'flat-coated_retriever', 'french_bulldog', 'german_shepherd',\n",
              "       'german_short-haired_pointer', 'giant_schnauzer',\n",
              "       'golden_retriever', 'gordon_setter', 'great_dane',\n",
              "       'great_pyrenees', 'greater_swiss_mountain_dog', 'groenendael',\n",
              "       'ibizan_hound', 'irish_setter', 'irish_terrier',\n",
              "       'irish_water_spaniel', 'irish_wolfhound', 'italian_greyhound',\n",
              "       'japanese_spaniel', 'keeshond', 'kelpie', 'kerry_blue_terrier',\n",
              "       'komondor', 'kuvasz', 'labrador_retriever', 'lakeland_terrier',\n",
              "       'leonberg', 'lhasa', 'malamute', 'malinois', 'maltese_dog',\n",
              "       'mexican_hairless', 'miniature_pinscher', 'miniature_poodle',\n",
              "       'miniature_schnauzer', 'newfoundland', 'norfolk_terrier',\n",
              "       'norwegian_elkhound', 'norwich_terrier', 'old_english_sheepdog',\n",
              "       'otterhound', 'papillon', 'pekinese', 'pembroke', 'pomeranian',\n",
              "       'pug', 'redbone', 'rhodesian_ridgeback', 'rottweiler',\n",
              "       'saint_bernard', 'saluki', 'samoyed', 'schipperke',\n",
              "       'scotch_terrier', 'scottish_deerhound', 'sealyham_terrier',\n",
              "       'shetland_sheepdog', 'shih-tzu', 'siberian_husky', 'silky_terrier',\n",
              "       'soft-coated_wheaten_terrier', 'staffordshire_bullterrier',\n",
              "       'standard_poodle', 'standard_schnauzer', 'sussex_spaniel',\n",
              "       'tibetan_mastiff', 'tibetan_terrier', 'toy_poodle', 'toy_terrier',\n",
              "       'vizsla', 'walker_hound', 'weimaraner', 'welsh_springer_spaniel',\n",
              "       'west_highland_white_terrier', 'whippet',\n",
              "       'wire-haired_fox_terrier', 'yorkshire_terrier'], dtype=object)"
            ]
          },
          "metadata": {
            "tags": []
          },
          "execution_count": 33
        }
      ]
    },
    {
      "cell_type": "code",
      "metadata": {
        "id": "sd4sOjFmnrLi",
        "colab_type": "code",
        "colab": {
          "base_uri": "https://localhost:8080/",
          "height": 272
        },
        "outputId": "dc71c47d-4f54-4ca0-852a-3b220e73a25a"
      },
      "source": [
        "# turn single label into an array\n",
        "print(labels[1])\n",
        "labels[1] == unique_breeds"
      ],
      "execution_count": 36,
      "outputs": [
        {
          "output_type": "stream",
          "text": [
            "dingo\n"
          ],
          "name": "stdout"
        },
        {
          "output_type": "execute_result",
          "data": {
            "text/plain": [
              "array([False, False, False, False, False, False, False, False, False,\n",
              "       False, False, False, False, False, False, False, False, False,\n",
              "       False, False, False, False, False, False, False, False, False,\n",
              "       False, False, False, False, False, False, False, False, False,\n",
              "       False,  True, False, False, False, False, False, False, False,\n",
              "       False, False, False, False, False, False, False, False, False,\n",
              "       False, False, False, False, False, False, False, False, False,\n",
              "       False, False, False, False, False, False, False, False, False,\n",
              "       False, False, False, False, False, False, False, False, False,\n",
              "       False, False, False, False, False, False, False, False, False,\n",
              "       False, False, False, False, False, False, False, False, False,\n",
              "       False, False, False, False, False, False, False, False, False,\n",
              "       False, False, False, False, False, False, False, False, False,\n",
              "       False, False, False])"
            ]
          },
          "metadata": {
            "tags": []
          },
          "execution_count": 36
        }
      ]
    },
    {
      "cell_type": "code",
      "metadata": {
        "id": "EhqINtLfqq4b",
        "colab_type": "code",
        "colab": {
          "base_uri": "https://localhost:8080/",
          "height": 493
        },
        "outputId": "d1f3bcb6-f098-4bc1-fd46-733ba5b15e9c"
      },
      "source": [
        "# Turn every label into a Boolean Array\n",
        "boolean_labels = [label == unique_breeds for label in labels]\n",
        "boolean_labels[:2]"
      ],
      "execution_count": 37,
      "outputs": [
        {
          "output_type": "execute_result",
          "data": {
            "text/plain": [
              "[array([False, False, False, False, False, False, False, False, False,\n",
              "        False, False, False, False, False, False, False, False, False,\n",
              "        False,  True, False, False, False, False, False, False, False,\n",
              "        False, False, False, False, False, False, False, False, False,\n",
              "        False, False, False, False, False, False, False, False, False,\n",
              "        False, False, False, False, False, False, False, False, False,\n",
              "        False, False, False, False, False, False, False, False, False,\n",
              "        False, False, False, False, False, False, False, False, False,\n",
              "        False, False, False, False, False, False, False, False, False,\n",
              "        False, False, False, False, False, False, False, False, False,\n",
              "        False, False, False, False, False, False, False, False, False,\n",
              "        False, False, False, False, False, False, False, False, False,\n",
              "        False, False, False, False, False, False, False, False, False,\n",
              "        False, False, False]),\n",
              " array([False, False, False, False, False, False, False, False, False,\n",
              "        False, False, False, False, False, False, False, False, False,\n",
              "        False, False, False, False, False, False, False, False, False,\n",
              "        False, False, False, False, False, False, False, False, False,\n",
              "        False,  True, False, False, False, False, False, False, False,\n",
              "        False, False, False, False, False, False, False, False, False,\n",
              "        False, False, False, False, False, False, False, False, False,\n",
              "        False, False, False, False, False, False, False, False, False,\n",
              "        False, False, False, False, False, False, False, False, False,\n",
              "        False, False, False, False, False, False, False, False, False,\n",
              "        False, False, False, False, False, False, False, False, False,\n",
              "        False, False, False, False, False, False, False, False, False,\n",
              "        False, False, False, False, False, False, False, False, False,\n",
              "        False, False, False])]"
            ]
          },
          "metadata": {
            "tags": []
          },
          "execution_count": 37
        }
      ]
    },
    {
      "cell_type": "code",
      "metadata": {
        "id": "qN2cncUBrq2w",
        "colab_type": "code",
        "colab": {
          "base_uri": "https://localhost:8080/",
          "height": 34
        },
        "outputId": "a977001d-93fd-4758-a85d-31d7b79813da"
      },
      "source": [
        "len(boolean_labels)"
      ],
      "execution_count": 38,
      "outputs": [
        {
          "output_type": "execute_result",
          "data": {
            "text/plain": [
              "10222"
            ]
          },
          "metadata": {
            "tags": []
          },
          "execution_count": 38
        }
      ]
    },
    {
      "cell_type": "markdown",
      "metadata": {
        "id": "gDHxtLGjs9_X",
        "colab_type": "text"
      },
      "source": [
        "## Turning **Boolean Labels into Integers**"
      ]
    },
    {
      "cell_type": "code",
      "metadata": {
        "id": "oq57D21ktIWV",
        "colab_type": "code",
        "colab": {
          "base_uri": "https://localhost:8080/",
          "height": 136
        },
        "outputId": "98ab0735-1fec-44a9-f7ff-f7740615b310"
      },
      "source": [
        "print(labels[0]) #Original Label\n",
        "print(np.where(unique_breeds == labels[0])) #index where label occur in unique_breeds \n",
        "print(boolean_labels[0].argmax()) #argmax returns max value in the array\n",
        "print(boolean_labels[0].astype(int)) #converts boolean values into Int"
      ],
      "execution_count": 43,
      "outputs": [
        {
          "output_type": "stream",
          "text": [
            "boston_bull\n",
            "(array([19]),)\n",
            "19\n",
            "[0 0 0 0 0 0 0 0 0 0 0 0 0 0 0 0 0 0 0 1 0 0 0 0 0 0 0 0 0 0 0 0 0 0 0 0 0\n",
            " 0 0 0 0 0 0 0 0 0 0 0 0 0 0 0 0 0 0 0 0 0 0 0 0 0 0 0 0 0 0 0 0 0 0 0 0 0\n",
            " 0 0 0 0 0 0 0 0 0 0 0 0 0 0 0 0 0 0 0 0 0 0 0 0 0 0 0 0 0 0 0 0 0 0 0 0 0\n",
            " 0 0 0 0 0 0 0 0 0]\n"
          ],
          "name": "stdout"
        }
      ]
    },
    {
      "cell_type": "markdown",
      "metadata": {
        "id": "lRM9JQEwxiPf",
        "colab_type": "text"
      },
      "source": [
        "## Creating our own Validation set\n",
        "Since kaggle doesn't provide any validation set."
      ]
    },
    {
      "cell_type": "code",
      "metadata": {
        "id": "ilgLZRavtYB-",
        "colab_type": "code",
        "colab": {}
      },
      "source": [
        "# Setup X and Y variables\n",
        "X = filenames\n",
        "y = boolean_labels"
      ],
      "execution_count": 44,
      "outputs": []
    },
    {
      "cell_type": "code",
      "metadata": {
        "id": "zTovh7fqyezl",
        "colab_type": "code",
        "colab": {
          "base_uri": "https://localhost:8080/",
          "height": 34
        },
        "outputId": "956c6cc5-7d05-4423-9d77-95299da97a74"
      },
      "source": [
        ""
      ],
      "execution_count": 45,
      "outputs": [
        {
          "output_type": "execute_result",
          "data": {
            "text/plain": [
              "10222"
            ]
          },
          "metadata": {
            "tags": []
          },
          "execution_count": 45
        }
      ]
    },
    {
      "cell_type": "markdown",
      "metadata": {
        "id": "AoAlt3SUysqt",
        "colab_type": "text"
      },
      "source": [
        "Since Experimenting with 10k images might take long, so we'll experiment with ~1000 images at first & increases as needed."
      ]
    },
    {
      "cell_type": "code",
      "metadata": {
        "id": "xxrTri_GygNM",
        "colab_type": "code",
        "colab": {}
      },
      "source": [
        "# Set number of images\n",
        "NUM_IMAGES = 1000 #@param {type:\"slider\", min:1000, max:10000, step:1000}"
      ],
      "execution_count": 46,
      "outputs": []
    },
    {
      "cell_type": "code",
      "metadata": {
        "id": "bL6jtdBT1OGy",
        "colab_type": "code",
        "colab": {
          "base_uri": "https://localhost:8080/",
          "height": 34
        },
        "outputId": "5df9ef19-e355-42b5-f007-ebe406e05b77"
      },
      "source": [
        " "
      ],
      "execution_count": 47,
      "outputs": [
        {
          "output_type": "execute_result",
          "data": {
            "text/plain": [
              "1000"
            ]
          },
          "metadata": {
            "tags": []
          },
          "execution_count": 47
        }
      ]
    },
    {
      "cell_type": "code",
      "metadata": {
        "id": "6DQFWw1w1QSM",
        "colab_type": "code",
        "colab": {
          "base_uri": "https://localhost:8080/",
          "height": 34
        },
        "outputId": "4cec567a-7a4c-4d0c-b5f9-c156b4a20869"
      },
      "source": [
        "# Let's split our data into train & valid sets\n",
        "from sklearn.model_selection import train_test_split\n",
        "\n",
        "# let's split our data into train and valid\n",
        "X_train, X_valid, y_train, y_valid = train_test_split(X[:NUM_IMAGES],\n",
        "                                                      y[:NUM_IMAGES],\n",
        "                                                      test_size=0.2,\n",
        "                                                      random_state=42)\n",
        "len(X_train), len(X_valid), len(y_train), len(y_valid)"
      ],
      "execution_count": 48,
      "outputs": [
        {
          "output_type": "execute_result",
          "data": {
            "text/plain": [
              "(800, 200, 800, 200)"
            ]
          },
          "metadata": {
            "tags": []
          },
          "execution_count": 48
        }
      ]
    },
    {
      "cell_type": "code",
      "metadata": {
        "id": "swCXX93p36wv",
        "colab_type": "code",
        "colab": {
          "base_uri": "https://localhost:8080/",
          "height": 578
        },
        "outputId": "8b250622-e8c8-49cf-c9f0-2037780b2b69"
      },
      "source": [
        "#Let's peek into our train and test data\n",
        "X_train[:5], y_train[:2]"
      ],
      "execution_count": 50,
      "outputs": [
        {
          "output_type": "execute_result",
          "data": {
            "text/plain": [
              "(['drive/My Drive/Dog vision/train/00bee065dcec471f26394855c5c2f3de.jpg',\n",
              "  'drive/My Drive/Dog vision/train/0d2f9e12a2611d911d91a339074c8154.jpg',\n",
              "  'drive/My Drive/Dog vision/train/1108e48ce3e2d7d7fb527ae6e40ab486.jpg',\n",
              "  'drive/My Drive/Dog vision/train/0dc3196b4213a2733d7f4bdcd41699d3.jpg',\n",
              "  'drive/My Drive/Dog vision/train/146fbfac6b5b1f0de83a5d0c1b473377.jpg'],\n",
              " [array([False, False, False, False, False, False, False, False, False,\n",
              "         False, False, False, False, False, False, False, False, False,\n",
              "         False, False, False, False, False, False, False, False,  True,\n",
              "         False, False, False, False, False, False, False, False, False,\n",
              "         False, False, False, False, False, False, False, False, False,\n",
              "         False, False, False, False, False, False, False, False, False,\n",
              "         False, False, False, False, False, False, False, False, False,\n",
              "         False, False, False, False, False, False, False, False, False,\n",
              "         False, False, False, False, False, False, False, False, False,\n",
              "         False, False, False, False, False, False, False, False, False,\n",
              "         False, False, False, False, False, False, False, False, False,\n",
              "         False, False, False, False, False, False, False, False, False,\n",
              "         False, False, False, False, False, False, False, False, False,\n",
              "         False, False, False]),\n",
              "  array([False, False, False, False, False, False, False, False, False,\n",
              "         False, False, False, False, False, False, False, False, False,\n",
              "         False, False,  True, False, False, False, False, False, False,\n",
              "         False, False, False, False, False, False, False, False, False,\n",
              "         False, False, False, False, False, False, False, False, False,\n",
              "         False, False, False, False, False, False, False, False, False,\n",
              "         False, False, False, False, False, False, False, False, False,\n",
              "         False, False, False, False, False, False, False, False, False,\n",
              "         False, False, False, False, False, False, False, False, False,\n",
              "         False, False, False, False, False, False, False, False, False,\n",
              "         False, False, False, False, False, False, False, False, False,\n",
              "         False, False, False, False, False, False, False, False, False,\n",
              "         False, False, False, False, False, False, False, False, False,\n",
              "         False, False, False])])"
            ]
          },
          "metadata": {
            "tags": []
          },
          "execution_count": 50
        }
      ]
    },
    {
      "cell_type": "code",
      "metadata": {
        "id": "kGNvX-2a4Hwe",
        "colab_type": "code",
        "colab": {}
      },
      "source": [
        ""
      ],
      "execution_count": null,
      "outputs": []
    }
  ]
}