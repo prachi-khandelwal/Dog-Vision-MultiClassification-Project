{
  "nbformat": 4,
  "nbformat_minor": 0,
  "metadata": {
    "colab": {
      "name": "end-to-end-dog-vision.ipynb",
      "provenance": [],
      "collapsed_sections": [],
      "mount_file_id": "1bTOTqjJACSh_poxEeaymzsKQb76flGi1",
      "authorship_tag": "ABX9TyPMAmYZ7jPZZ0WhFZ+iIA2R",
      "include_colab_link": true
    },
    "kernelspec": {
      "name": "python3",
      "display_name": "Python 3"
    },
    "accelerator": "GPU"
  },
  "cells": [
    {
      "cell_type": "markdown",
      "metadata": {
        "id": "view-in-github",
        "colab_type": "text"
      },
      "source": [
        "<a href=\"https://colab.research.google.com/github/prachi-khandelwal/Dog-Vision-MultiClassification-Project/blob/master/end_to_end_dog_vision.ipynb\" target=\"_parent\"><img src=\"https://colab.research.google.com/assets/colab-badge.svg\" alt=\"Open In Colab\"/></a>"
      ]
    },
    {
      "cell_type": "markdown",
      "metadata": {
        "id": "ToMI1HKTNZCQ",
        "colab_type": "text"
      },
      "source": [
        ""
      ]
    },
    {
      "cell_type": "markdown",
      "metadata": {
        "id": "Zd84bWcuNlD-",
        "colab_type": "text"
      },
      "source": [
        "# 🐶End-To-End MultiClass Dog Breed Identification\n",
        "\n",
        "this Notebook builds an end-to-end multi-class image classifier using TensolrFlow 2.0 and Tensorflow Hub.\n",
        "\n",
        "## 1. Problem\n",
        "\n",
        "Identifying the breed of the dog given in the image of a dog.\n",
        "\n",
        "When I am roaming around in my locality a dog passed and I wanted to Know the breed of the dog.😊😁\n",
        "\n",
        "## 2. Data\n",
        "\n",
        "The Data we're using is from Kaggle's Dog Breed identification competition.\n",
        "\n",
        "https://www.kaggle.com/c/dog-breed-identification/data\n",
        "\n",
        "## 3. Evaluation\n",
        "\n",
        "The evaluation is the file with Prediction Probabilitiesfor each dog breed in the image.\n",
        "\n",
        "https://www.kaggle.com/c/dog-breed-identification/overview/evaluation\n",
        "## 4. Features\n",
        "\n",
        "Some Information about the Data:\n",
        "* We're dealing with images (unstructured Data) so its probably best to use Deep learning /Transfer Learning.\n",
        "* There are 120 breeds of dogs (this means there are 120 different classes).\n",
        "* There are around 10K images in Trainng set (These Images have Labels).\n",
        "* There are around 10k images in Test set (These Images don't have labels).\n",
        "\n",
        "\n",
        "\n"
      ]
    },
    {
      "cell_type": "code",
      "metadata": {
        "id": "uMeuwQS1Tgw3",
        "colab_type": "code",
        "colab": {}
      },
      "source": [
        "# Unzip the data into Google Drive.\n",
        "# !unzip \"/content/drive/My Drive/Dog-vision/dog-breed-identification.zip\" -d \"drive/My Drive/Dog-vision\""
      ],
      "execution_count": 0,
      "outputs": []
    },
    {
      "cell_type": "markdown",
      "metadata": {
        "id": "R5zGmNf9TAn8",
        "colab_type": "text"
      },
      "source": [
        "# Get are Workspace Ready!\n",
        "* Import Tensorflow 2.x ✅\n",
        "* Import TensorFlow Hub✅\n",
        "* Make sure we're using a GPU \n"
      ]
    },
    {
      "cell_type": "markdown",
      "metadata": {
        "id": "utbI6ribVD0c",
        "colab_type": "text"
      },
      "source": [
        "Import necessary Tools"
      ]
    },
    {
      "cell_type": "code",
      "metadata": {
        "id": "bwwyr7N9TAO6",
        "colab_type": "code",
        "colab": {
          "base_uri": "https://localhost:8080/",
          "height": 51
        },
        "outputId": "6b06d91a-c14d-4a37-b132-4582787d71fa"
      },
      "source": [
        "# Import TensorFlow into COlAB\n",
        "import tensorflow as tf\n",
        "print(\"Tensorflow version:\",tf.__version__)\n",
        "# Import Tensorflow HUB\n",
        "import tensorflow_hub as hub\n",
        "print(\"Tensorflow hub version:\",hub.__version__)"
      ],
      "execution_count": 1,
      "outputs": [
        {
          "output_type": "stream",
          "text": [
            "Tensorflow version: 2.2.0\n",
            "Tensorflow hub version: 0.8.0\n"
          ],
          "name": "stdout"
        }
      ]
    },
    {
      "cell_type": "code",
      "metadata": {
        "id": "hQ_mNnvnfzhv",
        "colab_type": "code",
        "colab": {
          "base_uri": "https://localhost:8080/",
          "height": 34
        },
        "outputId": "1ec73c03-a2b0-4167-df78-537c0f6ca8ca"
      },
      "source": [
        "# Check If a GPU available\n",
        "print(\"GPU\", \"available Hurray !!!\" if tf.config.list_physical_devices(\"GPU\") else \"not available :(\")"
      ],
      "execution_count": 3,
      "outputs": [
        {
          "output_type": "stream",
          "text": [
            "GPU available Hurray !!!\n"
          ],
          "name": "stdout"
        }
      ]
    },
    {
      "cell_type": "code",
      "metadata": {
        "id": "0TCMZV4qSvrX",
        "colab_type": "code",
        "colab": {}
      },
      "source": [
        ""
      ],
      "execution_count": 0,
      "outputs": []
    }
  ]
}